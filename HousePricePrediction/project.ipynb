{
  "nbformat": 4,
  "nbformat_minor": 0,
  "metadata": {
    "colab": {
      "provenance": []
    },
    "kernelspec": {
      "name": "python3",
      "display_name": "Python 3"
    },
    "language_info": {
      "name": "python"
    }
  },
  "cells": [
    {
      "cell_type": "code",
      "execution_count": 2,
      "metadata": {
        "colab": {
          "base_uri": "https://localhost:8080/"
        },
        "id": "CUCOCmPPd7Xf",
        "outputId": "7055b60f-7ae5-4ef7-af61-7326f7ea977c"
      },
      "outputs": [
        {
          "output_type": "stream",
          "name": "stderr",
          "text": [
            "<ipython-input-2-6db7f1bf4f83>:8: FutureWarning: The default value of numeric_only in DataFrame.mean is deprecated. In a future version, it will default to False. In addition, specifying 'numeric_only=None' is deprecated. Select only valid columns or specify the value of numeric_only to silence this warning.\n",
            "  df.fillna(df.mean(),inplace=True)\n",
            "<ipython-input-2-6db7f1bf4f83>:35: SettingWithCopyWarning: \n",
            "A value is trying to be set on a copy of a slice from a DataFrame\n",
            "\n",
            "See the caveats in the documentation: https://pandas.pydata.org/pandas-docs/stable/user_guide/indexing.html#returning-a-view-versus-a-copy\n",
            "  df.drop(['price'],axis=1,inplace=True)\n"
          ]
        },
        {
          "output_type": "stream",
          "name": "stdout",
          "text": [
            "0.9970215446060327\n"
          ]
        }
      ],
      "source": [
        "import numpy as np\n",
        "import pandas as pd\n",
        "import matplotlib.pyplot as plt\n",
        "import seaborn as sns\n",
        "df0=pd.read_csv('/content/Bengaluru_House_Data.csv')\n",
        "df0.drop(['availability','society'],axis=1,inplace=True)\n",
        "df=df0.copy()\n",
        "df.fillna(df.mean(),inplace=True)\n",
        "df.dropna(inplace=True)\n",
        "df.groupby('size')['size'].count()\n",
        "df1=df.copy()\n",
        "def convert_sqft_to_num(x):\n",
        "    tokens = x.split('-')\n",
        "    if len(tokens) == 2:\n",
        "        return (float(tokens[0])+float(tokens[1]))/2\n",
        "    try:\n",
        "        return float(x)\n",
        "    except:\n",
        "        return None\n",
        "df['Bedrooms']=df['size'].str.split(' ').apply(lambda x: x[0])\n",
        "df['hk']=df['size'].str.split(' ').apply(lambda x: x[1])\n",
        "df.drop(['size'],axis=1,inplace=True)\n",
        "df.reset_index(inplace=True)\n",
        "df['HK'] = df['hk'] == 'BHK'\n",
        "df[\"HK\"] = df[\"HK\"].astype(int)\n",
        "df.drop(['hk'],axis=1,inplace=True)\n",
        "from sklearn.preprocessing import LabelEncoder\n",
        "le = LabelEncoder()\n",
        "df.area_type = le.fit_transform(df.area_type)\n",
        "df.location = le.fit_transform(df.location)\n",
        "df.drop(['index'],axis=1,inplace=True)\n",
        "df['total_sqft']=df['total_sqft'].apply(convert_sqft_to_num)\n",
        "df = df[df.total_sqft.notnull()]\n",
        "price=pd.DataFrame(df.price)\n",
        "df.drop(['price'],axis=1,inplace=True)\n",
        "from sklearn.model_selection import train_test_split\n",
        "price=np.ravel(price)\n",
        "x_train,x_test,y_train,y_test=train_test_split(df,price,test_size=0.2,random_state=0)\n",
        "from sklearn.tree import DecisionTreeRegressor\n",
        "m=0\n",
        "r=range(20)\n",
        "for k in r:\n",
        "  dtregressor = DecisionTreeRegressor(random_state=k)\n",
        "  dtregressor.fit(df,price)\n",
        "  if m<dtregressor.score(x_test,y_test):\n",
        "    m=dtregressor.score(x_test,y_test)\n",
        "print(m)"
      ]
    },
    {
      "cell_type": "code",
      "source": [
        "import pickle\n",
        "with open('banglore_home_prices_model.pickle','wb') as f:\n",
        "    pickle.dump(dtregressor,f)"
      ],
      "metadata": {
        "id": "0TTuevaJiDY0"
      },
      "execution_count": 3,
      "outputs": []
    },
    {
      "cell_type": "code",
      "source": [
        "import json\n",
        "columns = {\n",
        "    'data_columns' : [col.lower() for col in df.columns]\n",
        "}\n",
        "with open(\"columns.json\",\"w\") as f:\n",
        "    f.write(json.dumps(columns))"
      ],
      "metadata": {
        "id": "STMdF5SAmOl5"
      },
      "execution_count": 5,
      "outputs": []
    },
    {
      "cell_type": "code",
      "source": [
        "#wb stands for binary data\n",
        "#f is file\n",
        "# and 'banglore_home_prices_model.pickle' will be the name of the file "
      ],
      "metadata": {
        "id": "kuFjz3c4mjkJ"
      },
      "execution_count": null,
      "outputs": []
    }
  ]
}